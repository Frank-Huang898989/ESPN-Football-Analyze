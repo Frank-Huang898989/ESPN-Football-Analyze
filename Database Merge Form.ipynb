{
 "cells": [
  {
   "cell_type": "markdown",
   "metadata": {},
   "source": [
    "# merge socre and probability"
   ]
  },
  {
   "cell_type": "code",
   "execution_count": 39,
   "metadata": {},
   "outputs": [],
   "source": [
    "import pandas as pd \n",
    "Report = pd.read_csv(r\"C:\\Users\\perpe\\Desktop\\Scooer\\API\\coding\\1 Report.csv\")\n",
    "for i in range(0,Report.shape[0]):\n",
    "    if Report['Time'][i] == 'Time':\n",
    "        Report = Report.drop(index = [i])\n",
    "                    "
   ]
  },
  {
   "cell_type": "markdown",
   "metadata": {},
   "source": [
    "# need to change path"
   ]
  },
  {
   "cell_type": "code",
   "execution_count": 40,
   "metadata": {},
   "outputs": [],
   "source": [
    "import os\n",
    "os.chdir(r'C:\\Users\\perpe\\Desktop\\Scooer\\API\\coding')\n",
    "import shutil\n",
    "\n",
    "Report.to_csv(\"A Report.csv\", mode = 'a', encoding = 'utf_8_sig', header = 1, index = 0)"
   ]
  },
  {
   "cell_type": "code",
   "execution_count": null,
   "metadata": {},
   "outputs": [],
   "source": []
  },
  {
   "cell_type": "code",
   "execution_count": 41,
   "metadata": {},
   "outputs": [
    {
     "data": {
      "text/plain": [
       "'./DataBase\\\\C probability.csv'"
      ]
     },
     "execution_count": 41,
     "metadata": {},
     "output_type": "execute_result"
    }
   ],
   "source": [
    "shutil.move(\"A Report.csv\", \"./DataBase\")\n",
    "shutil.move(\"B score.csv\", \"./DataBase\")\n",
    "shutil.move(\"C probability.csv\", \"./DataBase\")"
   ]
  },
  {
   "cell_type": "code",
   "execution_count": 42,
   "metadata": {},
   "outputs": [],
   "source": [
    " \n",
    "Folder_Path = r\"C:\\Users\\perpe\\Desktop\\Scooer\\API\\coding\\DataBase\"        \n",
    "SaveFile_Path =  r'C:\\Users\\perpe\\Desktop\\Answer'       #拼接后要保存的文件路径\n",
    "SaveFile_Name = r'all.csv' \n",
    "\n",
    "\n",
    "os.chdir(Folder_Path)\n",
    "\n",
    "file_list = os.listdir()\n",
    "df = pd.read_csv(Folder_Path +'\\\\'+ file_list[0]) \n",
    "\n",
    "df.to_csv(SaveFile_Path+'\\\\'+ SaveFile_Name,encoding=\"utf_8_sig\",index=False)\n",
    "\n",
    "for i in range(1,len(file_list)):\n",
    "    df = pd.read_csv(Folder_Path + '\\\\'+ file_list[i])\n",
    "    df.to_csv(SaveFile_Path+'\\\\'+ SaveFile_Name,encoding=\"utf_8_sig\",index=False, header=False, mode='a+')\n"
   ]
  },
  {
   "cell_type": "code",
   "execution_count": null,
   "metadata": {},
   "outputs": [],
   "source": []
  },
  {
   "cell_type": "markdown",
   "metadata": {},
   "source": [
    "# Remove File"
   ]
  },
  {
   "cell_type": "code",
   "execution_count": 43,
   "metadata": {},
   "outputs": [],
   "source": [
    "os.remove(r\"C:\\Users\\perpe\\Desktop\\Scooer\\API\\coding\\DataBase\\A Report.csv\")\n",
    "os.remove(r\"C:\\Users\\perpe\\Desktop\\Scooer\\API\\coding\\DataBase\\B score.csv\")\n",
    "os.remove(r\"C:\\Users\\perpe\\Desktop\\Scooer\\API\\coding\\DataBase\\C Probability.csv\")\n",
    "os.remove(r\"C:\\Users\\perpe\\Desktop\\Scooer\\API\\coding\\1 Report.csv\")\n"
   ]
  },
  {
   "cell_type": "code",
   "execution_count": null,
   "metadata": {},
   "outputs": [],
   "source": []
  }
 ],
 "metadata": {
  "kernelspec": {
   "display_name": "Python 3",
   "language": "python",
   "name": "python3"
  },
  "language_info": {
   "codemirror_mode": {
    "name": "ipython",
    "version": 3
   },
   "file_extension": ".py",
   "mimetype": "text/x-python",
   "name": "python",
   "nbconvert_exporter": "python",
   "pygments_lexer": "ipython3",
   "version": "3.8.3"
  }
 },
 "nbformat": 4,
 "nbformat_minor": 4
}
